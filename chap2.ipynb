{
 "cells": [
  {
   "cell_type": "code",
   "execution_count": 1,
   "id": "52921af3-e744-401f-a1bc-a9a1be6b04a3",
   "metadata": {},
   "outputs": [],
   "source": [
    "import numpy as np\n",
    "import numpy.random as random\n",
    "import scipy as sp\n",
    "import pandas as pd\n",
    "\n",
    "import matplotlib.pyplot as plt\n",
    "import matplotlib as mpl\n",
    "import seaborn as sns\n",
    "%matplotlib inline"
   ]
  },
  {
   "cell_type": "code",
   "execution_count": 6,
   "id": "006e6acd-9ed1-4c2d-8807-9086fe0bd4e6",
   "metadata": {},
   "outputs": [
    {
     "data": {
      "text/plain": [
       "'%.3f'"
      ]
     },
     "execution_count": 6,
     "metadata": {},
     "output_type": "execute_result"
    }
   ],
   "source": [
    "# マジックコマンド。少数第3位まで数値を表示\n",
    "%precision 3"
   ]
  },
  {
   "cell_type": "code",
   "execution_count": 5,
   "id": "01438ad4-89c6-4467-906f-cc4bd8f67b59",
   "metadata": {},
   "outputs": [],
   "source": [
    "l = np.array([1, 3, 5])"
   ]
  },
  {
   "cell_type": "code",
   "execution_count": 7,
   "id": "662638b4-82d7-4607-be8a-3cff54897a79",
   "metadata": {},
   "outputs": [
    {
     "data": {
      "text/plain": [
       "(dtype('int64'), 1, 3)"
      ]
     },
     "execution_count": 7,
     "metadata": {},
     "output_type": "execute_result"
    }
   ],
   "source": [
    "l.dtype, l.ndim, l.size"
   ]
  },
  {
   "cell_type": "code",
   "execution_count": 8,
   "id": "fb2ee270-5cc0-42d9-8a63-67a3250c84e3",
   "metadata": {},
   "outputs": [],
   "source": [
    "# 乱数\n",
    "random.seed(0)"
   ]
  },
  {
   "cell_type": "code",
   "execution_count": 12,
   "id": "2a62b01e-7413-4057-bc23-bca13e75560e",
   "metadata": {},
   "outputs": [
    {
     "data": {
      "text/plain": [
       "array([ 0.155,  0.378, -0.888, -1.981, -0.348,  0.156,  1.23 ,  1.202,\n",
       "       -0.387, -0.302])"
      ]
     },
     "execution_count": 12,
     "metadata": {},
     "output_type": "execute_result"
    }
   ],
   "source": [
    "rnd_data = random.randn(10)\n",
    "rnd_data"
   ]
  },
  {
   "cell_type": "code",
   "execution_count": 13,
   "id": "08caaa85-64d5-4290-89d8-364541388d42",
   "metadata": {},
   "outputs": [
    {
     "data": {
      "text/plain": [
       "array([-1.981,  0.156, -0.302, -0.348, -0.348,  1.23 , -0.348, -0.348,\n",
       "       -1.981, -0.348])"
      ]
     },
     "execution_count": 13,
     "metadata": {},
     "output_type": "execute_result"
    }
   ],
   "source": [
    "random.choice(rnd_data, 10)"
   ]
  },
  {
   "cell_type": "code",
   "execution_count": 14,
   "id": "22d5a954-2965-403e-bf8c-2ad2d72e91a9",
   "metadata": {},
   "outputs": [
    {
     "data": {
      "text/plain": [
       "array([ 0.155,  1.202,  0.378,  0.156, -0.888, -1.981, -0.302,  1.23 ,\n",
       "       -0.387, -0.348])"
      ]
     },
     "execution_count": 14,
     "metadata": {},
     "output_type": "execute_result"
    }
   ],
   "source": [
    "random.choice(rnd_data, 10, replace=False)"
   ]
  },
  {
   "cell_type": "markdown",
   "id": "efa47e35-da02-404b-9d10-3525ca4e6f6a",
   "metadata": {},
   "source": [
    "## 練習問題"
   ]
  },
  {
   "cell_type": "code",
   "execution_count": 15,
   "id": "cdec5b27-664b-45d9-ab47-33948e16fe9c",
   "metadata": {},
   "outputs": [
    {
     "data": {
      "text/plain": [
       "array([ 0,  1,  2,  3,  4,  5,  6,  7,  8,  9, 10, 11, 12, 13, 14, 15, 16,\n",
       "       17, 18, 19, 20, 21, 22, 23, 24, 25, 26, 27, 28, 29, 30, 31, 32, 33,\n",
       "       34, 35, 36, 37, 38, 39, 40, 41, 42, 43, 44, 45, 46, 47, 48, 49])"
      ]
     },
     "execution_count": 15,
     "metadata": {},
     "output_type": "execute_result"
    }
   ],
   "source": [
    "l = np.arange(50)\n",
    "l"
   ]
  },
  {
   "cell_type": "code",
   "execution_count": 17,
   "id": "64d05e99-a8b6-40ec-b8dd-1f99a11aafdb",
   "metadata": {},
   "outputs": [
    {
     "data": {
      "text/plain": [
       "array([ 0,  1,  2,  3,  4,  5,  6,  7,  8,  9, 10, 11, 12, 13, 14, 15, 16,\n",
       "       17, 18, 19, 20, 21, 22, 23, 24, 25, 26, 27, 28, 29, 30, 31, 32, 33,\n",
       "       34, 35, 36, 37, 38, 39, 40, 41, 42, 43, 44, 45, 46, 47, 48, 49])"
      ]
     },
     "execution_count": 17,
     "metadata": {},
     "output_type": "execute_result"
    }
   ],
   "source": [
    "l = np.array([i for i in range(50)])\n",
    "l"
   ]
  },
  {
   "cell_type": "code",
   "execution_count": 16,
   "id": "99f1f632-4751-477a-8bce-0c3b18c027e0",
   "metadata": {},
   "outputs": [
    {
     "data": {
      "text/plain": [
       "np.int64(1225)"
      ]
     },
     "execution_count": 16,
     "metadata": {},
     "output_type": "execute_result"
    }
   ],
   "source": [
    "l.sum()"
   ]
  },
  {
   "cell_type": "code",
   "execution_count": 18,
   "id": "56737d12-9da3-4aed-8b43-b2ba2c12aba8",
   "metadata": {},
   "outputs": [
    {
     "data": {
      "text/plain": [
       "array([-0.895,  0.387, -0.511, -1.181, -0.028,  0.428,  0.067,  0.302,\n",
       "       -0.634, -0.363])"
      ]
     },
     "execution_count": 18,
     "metadata": {},
     "output_type": "execute_result"
    }
   ],
   "source": [
    "l = random.randn(10)\n",
    "l"
   ]
  },
  {
   "cell_type": "code",
   "execution_count": 19,
   "id": "1fadd9b8-ccda-455a-a316-8375ab3f2bd0",
   "metadata": {},
   "outputs": [
    {
     "data": {
      "text/plain": [
       "(-1.181, 0.428, -2.428)"
      ]
     },
     "execution_count": 19,
     "metadata": {},
     "output_type": "execute_result"
    }
   ],
   "source": [
    "l.min(), l.max(), l.sum()"
   ]
  },
  {
   "cell_type": "code",
   "execution_count": 29,
   "id": "03912f33-7757-4050-8e6f-f4c758d4fd0b",
   "metadata": {},
   "outputs": [],
   "source": [
    "l = np.ones((5, 5), dtype=np.int64) * 3"
   ]
  },
  {
   "cell_type": "code",
   "execution_count": 30,
   "id": "7d7844f1-e0e4-4ab5-ba2b-a4fff3fa4a88",
   "metadata": {},
   "outputs": [
    {
     "data": {
      "text/plain": [
       "dtype('int64')"
      ]
     },
     "execution_count": 30,
     "metadata": {},
     "output_type": "execute_result"
    }
   ],
   "source": [
    "l.dtype"
   ]
  },
  {
   "cell_type": "code",
   "execution_count": 31,
   "id": "1e968545-17a0-4423-955b-2e888ebb4ab0",
   "metadata": {},
   "outputs": [
    {
     "data": {
      "text/plain": [
       "array([[9, 9, 9, 9, 9],\n",
       "       [9, 9, 9, 9, 9],\n",
       "       [9, 9, 9, 9, 9],\n",
       "       [9, 9, 9, 9, 9],\n",
       "       [9, 9, 9, 9, 9]])"
      ]
     },
     "execution_count": 31,
     "metadata": {},
     "output_type": "execute_result"
    }
   ],
   "source": [
    "l**2"
   ]
  },
  {
   "cell_type": "code",
   "execution_count": 32,
   "id": "93288543-e7e6-449e-8266-3914faed8646",
   "metadata": {},
   "outputs": [
    {
     "data": {
      "text/plain": [
       "array([[45, 45, 45, 45, 45],\n",
       "       [45, 45, 45, 45, 45],\n",
       "       [45, 45, 45, 45, 45],\n",
       "       [45, 45, 45, 45, 45],\n",
       "       [45, 45, 45, 45, 45]])"
      ]
     },
     "execution_count": 32,
     "metadata": {},
     "output_type": "execute_result"
    }
   ],
   "source": [
    "l.dot(l)"
   ]
  },
  {
   "cell_type": "code",
   "execution_count": null,
   "id": "985cd4bc-48a6-427b-8811-5c532c590214",
   "metadata": {},
   "outputs": [],
   "source": []
  },
  {
   "cell_type": "code",
   "execution_count": 1,
   "id": "041a567b-c04c-4f85-a12f-86cd94cb8818",
   "metadata": {},
   "outputs": [],
   "source": [
    "import scipy.linalg as linalg\n",
    "from scipy.optimize import newton"
   ]
  },
  {
   "cell_type": "code",
   "execution_count": 3,
   "id": "c0230b40-f57b-4285-9766-3183f0b864d4",
   "metadata": {},
   "outputs": [],
   "source": [
    "m = np.array([[1, 2, 3],\n",
    "             [1, 3, 2],\n",
    "              [3, 1, 2]])"
   ]
  },
  {
   "cell_type": "code",
   "execution_count": 7,
   "id": "72b63001-24b5-4536-b4cf-22398e74bebc",
   "metadata": {},
   "outputs": [
    {
     "data": {
      "text/plain": [
       "-12.000"
      ]
     },
     "execution_count": 7,
     "metadata": {},
     "output_type": "execute_result"
    }
   ],
   "source": [
    "linalg.det(m)"
   ]
  },
  {
   "cell_type": "code",
   "execution_count": 8,
   "id": "48d916c1-9b93-46e0-a7e6-ed0417771e18",
   "metadata": {},
   "outputs": [
    {
     "data": {
      "text/plain": [
       "array([[-0.333,  0.083,  0.417],\n",
       "       [-0.333,  0.583, -0.083],\n",
       "       [ 0.667, -0.417, -0.083]])"
      ]
     },
     "execution_count": 8,
     "metadata": {},
     "output_type": "execute_result"
    }
   ],
   "source": [
    "linalg.inv(m)"
   ]
  },
  {
   "cell_type": "code",
   "execution_count": 9,
   "id": "570248c4-e2b0-473d-b7d4-7b9f8116c6c2",
   "metadata": {},
   "outputs": [
    {
     "data": {
      "text/plain": [
       "(array([ 6.   +0.j, -1.414+0.j,  1.414+0.j]),\n",
       " array([[-0.577, -0.722,  0.16 ],\n",
       "        [-0.577, -0.143, -0.811],\n",
       "        [-0.577,  0.677,  0.563]]))"
      ]
     },
     "execution_count": 9,
     "metadata": {},
     "output_type": "execute_result"
    }
   ],
   "source": [
    "linalg.eig(m)"
   ]
  },
  {
   "cell_type": "code",
   "execution_count": 10,
   "id": "d113e445-c736-417e-a0ec-27a58c3f3e70",
   "metadata": {},
   "outputs": [],
   "source": [
    "def my_func(x):\n",
    "    return (x**3 + 2*x + 1)"
   ]
  },
  {
   "cell_type": "code",
   "execution_count": 11,
   "id": "5ad1515f-a19a-4cb1-aa52-3fe8d315b16c",
   "metadata": {},
   "outputs": [
    {
     "data": {
      "text/plain": [
       "-0.453"
      ]
     },
     "execution_count": 11,
     "metadata": {},
     "output_type": "execute_result"
    }
   ],
   "source": [
    "newton(my_func, 0)"
   ]
  },
  {
   "cell_type": "code",
   "execution_count": null,
   "id": "0c973bff-06ad-41d9-b077-e5ff13aef0f9",
   "metadata": {},
   "outputs": [],
   "source": []
  },
  {
   "cell_type": "code",
   "execution_count": 1,
   "id": "f934b013-763b-4b37-894c-da3631809a01",
   "metadata": {},
   "outputs": [],
   "source": [
    "from pandas import Series,DataFrame\n",
    "import pandas as pd\n",
    "\n",
    "attri_data1 = {'ID':['1','2','3','4','5'],\n",
    "               'Sex':['F','F','M','M','F'],\n",
    "               'Money':[1000,2000,500,300,700],\n",
    "               'Name':['Saito','Horie','Kondo','Kawada','Matsubara']}\n",
    "\n",
    "attri_data_frame1 = DataFrame(attri_data1)"
   ]
  },
  {
   "cell_type": "code",
   "execution_count": 3,
   "id": "eccefd0a-90c6-4b8d-8373-e4890447c084",
   "metadata": {},
   "outputs": [
    {
     "data": {
      "text/html": [
       "<div>\n",
       "<style scoped>\n",
       "    .dataframe tbody tr th:only-of-type {\n",
       "        vertical-align: middle;\n",
       "    }\n",
       "\n",
       "    .dataframe tbody tr th {\n",
       "        vertical-align: top;\n",
       "    }\n",
       "\n",
       "    .dataframe thead th {\n",
       "        text-align: right;\n",
       "    }\n",
       "</style>\n",
       "<table border=\"1\" class=\"dataframe\">\n",
       "  <thead>\n",
       "    <tr style=\"text-align: right;\">\n",
       "      <th></th>\n",
       "      <th>ID</th>\n",
       "      <th>Sex</th>\n",
       "      <th>Money</th>\n",
       "      <th>Name</th>\n",
       "    </tr>\n",
       "  </thead>\n",
       "  <tbody>\n",
       "    <tr>\n",
       "      <th>0</th>\n",
       "      <td>1</td>\n",
       "      <td>F</td>\n",
       "      <td>1000</td>\n",
       "      <td>Saito</td>\n",
       "    </tr>\n",
       "    <tr>\n",
       "      <th>1</th>\n",
       "      <td>2</td>\n",
       "      <td>F</td>\n",
       "      <td>2000</td>\n",
       "      <td>Horie</td>\n",
       "    </tr>\n",
       "    <tr>\n",
       "      <th>2</th>\n",
       "      <td>3</td>\n",
       "      <td>M</td>\n",
       "      <td>500</td>\n",
       "      <td>Kondo</td>\n",
       "    </tr>\n",
       "    <tr>\n",
       "      <th>3</th>\n",
       "      <td>4</td>\n",
       "      <td>M</td>\n",
       "      <td>300</td>\n",
       "      <td>Kawada</td>\n",
       "    </tr>\n",
       "    <tr>\n",
       "      <th>4</th>\n",
       "      <td>5</td>\n",
       "      <td>F</td>\n",
       "      <td>700</td>\n",
       "      <td>Matsubara</td>\n",
       "    </tr>\n",
       "  </tbody>\n",
       "</table>\n",
       "</div>"
      ],
      "text/plain": [
       "  ID Sex  Money       Name\n",
       "0  1   F   1000      Saito\n",
       "1  2   F   2000      Horie\n",
       "2  3   M    500      Kondo\n",
       "3  4   M    300     Kawada\n",
       "4  5   F    700  Matsubara"
      ]
     },
     "execution_count": 3,
     "metadata": {},
     "output_type": "execute_result"
    }
   ],
   "source": [
    "attri_data_frame1"
   ]
  },
  {
   "cell_type": "code",
   "execution_count": 4,
   "id": "ce8d52d2-f1b4-4a24-bebb-61788c9e5f1b",
   "metadata": {},
   "outputs": [
    {
     "data": {
      "text/html": [
       "<div>\n",
       "<style scoped>\n",
       "    .dataframe tbody tr th:only-of-type {\n",
       "        vertical-align: middle;\n",
       "    }\n",
       "\n",
       "    .dataframe tbody tr th {\n",
       "        vertical-align: top;\n",
       "    }\n",
       "\n",
       "    .dataframe thead th {\n",
       "        text-align: right;\n",
       "    }\n",
       "</style>\n",
       "<table border=\"1\" class=\"dataframe\">\n",
       "  <thead>\n",
       "    <tr style=\"text-align: right;\">\n",
       "      <th></th>\n",
       "      <th>ID</th>\n",
       "      <th>Sex</th>\n",
       "      <th>Money</th>\n",
       "      <th>Name</th>\n",
       "    </tr>\n",
       "  </thead>\n",
       "  <tbody>\n",
       "    <tr>\n",
       "      <th>0</th>\n",
       "      <td>1</td>\n",
       "      <td>F</td>\n",
       "      <td>1000</td>\n",
       "      <td>Saito</td>\n",
       "    </tr>\n",
       "    <tr>\n",
       "      <th>1</th>\n",
       "      <td>2</td>\n",
       "      <td>F</td>\n",
       "      <td>2000</td>\n",
       "      <td>Horie</td>\n",
       "    </tr>\n",
       "    <tr>\n",
       "      <th>2</th>\n",
       "      <td>3</td>\n",
       "      <td>M</td>\n",
       "      <td>500</td>\n",
       "      <td>Kondo</td>\n",
       "    </tr>\n",
       "    <tr>\n",
       "      <th>4</th>\n",
       "      <td>5</td>\n",
       "      <td>F</td>\n",
       "      <td>700</td>\n",
       "      <td>Matsubara</td>\n",
       "    </tr>\n",
       "  </tbody>\n",
       "</table>\n",
       "</div>"
      ],
      "text/plain": [
       "  ID Sex  Money       Name\n",
       "0  1   F   1000      Saito\n",
       "1  2   F   2000      Horie\n",
       "2  3   M    500      Kondo\n",
       "4  5   F    700  Matsubara"
      ]
     },
     "execution_count": 4,
     "metadata": {},
     "output_type": "execute_result"
    }
   ],
   "source": [
    "attri_data_frame1[attri_data_frame1.Money>=500]"
   ]
  },
  {
   "cell_type": "code",
   "execution_count": 5,
   "id": "a08ffd01-ea9f-4a0c-bcfe-feb49cbaee9a",
   "metadata": {},
   "outputs": [
    {
     "data": {
      "text/plain": [
       "Sex\n",
       "F    1233.333333\n",
       "M     400.000000\n",
       "Name: Money, dtype: float64"
      ]
     },
     "execution_count": 5,
     "metadata": {},
     "output_type": "execute_result"
    }
   ],
   "source": [
    "attri_data_frame1.groupby(\"Sex\")[\"Money\"].mean()"
   ]
  },
  {
   "cell_type": "code",
   "execution_count": null,
   "id": "92fcee7a-86a0-4188-9cbd-b07d1134c800",
   "metadata": {},
   "outputs": [],
   "source": []
  },
  {
   "cell_type": "code",
   "execution_count": null,
   "id": "bdbdc764-1572-46c9-bb7c-a0c497c62396",
   "metadata": {},
   "outputs": [],
   "source": []
  },
  {
   "cell_type": "code",
   "execution_count": 6,
   "id": "d553e0b2-35ac-44b5-9bba-2729c31ce7b6",
   "metadata": {},
   "outputs": [],
   "source": [
    "attri_data2 = {'ID':['3','4','7'],\n",
    "               'Math':[60,30,40],\n",
    "               'English':[80,20,30]}\n",
    "\n",
    "attri_data_frame2 = DataFrame(attri_data2)"
   ]
  },
  {
   "cell_type": "code",
   "execution_count": 7,
   "id": "965d8d70-322f-485a-8c44-e54e0adc6026",
   "metadata": {},
   "outputs": [
    {
     "data": {
      "text/html": [
       "<div>\n",
       "<style scoped>\n",
       "    .dataframe tbody tr th:only-of-type {\n",
       "        vertical-align: middle;\n",
       "    }\n",
       "\n",
       "    .dataframe tbody tr th {\n",
       "        vertical-align: top;\n",
       "    }\n",
       "\n",
       "    .dataframe thead th {\n",
       "        text-align: right;\n",
       "    }\n",
       "</style>\n",
       "<table border=\"1\" class=\"dataframe\">\n",
       "  <thead>\n",
       "    <tr style=\"text-align: right;\">\n",
       "      <th></th>\n",
       "      <th>ID</th>\n",
       "      <th>Math</th>\n",
       "      <th>English</th>\n",
       "    </tr>\n",
       "  </thead>\n",
       "  <tbody>\n",
       "    <tr>\n",
       "      <th>0</th>\n",
       "      <td>3</td>\n",
       "      <td>60</td>\n",
       "      <td>80</td>\n",
       "    </tr>\n",
       "    <tr>\n",
       "      <th>1</th>\n",
       "      <td>4</td>\n",
       "      <td>30</td>\n",
       "      <td>20</td>\n",
       "    </tr>\n",
       "    <tr>\n",
       "      <th>2</th>\n",
       "      <td>7</td>\n",
       "      <td>40</td>\n",
       "      <td>30</td>\n",
       "    </tr>\n",
       "  </tbody>\n",
       "</table>\n",
       "</div>"
      ],
      "text/plain": [
       "  ID  Math  English\n",
       "0  3    60       80\n",
       "1  4    30       20\n",
       "2  7    40       30"
      ]
     },
     "execution_count": 7,
     "metadata": {},
     "output_type": "execute_result"
    }
   ],
   "source": [
    "attri_data_frame2"
   ]
  },
  {
   "cell_type": "code",
   "execution_count": 8,
   "id": "4cb85d02-b876-4a94-bb14-9b0f0271153f",
   "metadata": {},
   "outputs": [],
   "source": [
    "m = pd.merge(attri_data_frame1, attri_data_frame2, on=\"ID\")"
   ]
  },
  {
   "cell_type": "code",
   "execution_count": 9,
   "id": "07ce2022-4f43-4e46-8a97-4190125a40a1",
   "metadata": {},
   "outputs": [
    {
     "data": {
      "text/html": [
       "<div>\n",
       "<style scoped>\n",
       "    .dataframe tbody tr th:only-of-type {\n",
       "        vertical-align: middle;\n",
       "    }\n",
       "\n",
       "    .dataframe tbody tr th {\n",
       "        vertical-align: top;\n",
       "    }\n",
       "\n",
       "    .dataframe thead th {\n",
       "        text-align: right;\n",
       "    }\n",
       "</style>\n",
       "<table border=\"1\" class=\"dataframe\">\n",
       "  <thead>\n",
       "    <tr style=\"text-align: right;\">\n",
       "      <th></th>\n",
       "      <th>ID</th>\n",
       "      <th>Sex</th>\n",
       "      <th>Money</th>\n",
       "      <th>Name</th>\n",
       "      <th>Math</th>\n",
       "      <th>English</th>\n",
       "    </tr>\n",
       "  </thead>\n",
       "  <tbody>\n",
       "    <tr>\n",
       "      <th>0</th>\n",
       "      <td>3</td>\n",
       "      <td>M</td>\n",
       "      <td>500</td>\n",
       "      <td>Kondo</td>\n",
       "      <td>60</td>\n",
       "      <td>80</td>\n",
       "    </tr>\n",
       "    <tr>\n",
       "      <th>1</th>\n",
       "      <td>4</td>\n",
       "      <td>M</td>\n",
       "      <td>300</td>\n",
       "      <td>Kawada</td>\n",
       "      <td>30</td>\n",
       "      <td>20</td>\n",
       "    </tr>\n",
       "  </tbody>\n",
       "</table>\n",
       "</div>"
      ],
      "text/plain": [
       "  ID Sex  Money    Name  Math  English\n",
       "0  3   M    500   Kondo    60       80\n",
       "1  4   M    300  Kawada    30       20"
      ]
     },
     "execution_count": 9,
     "metadata": {},
     "output_type": "execute_result"
    }
   ],
   "source": [
    "m"
   ]
  },
  {
   "cell_type": "code",
   "execution_count": 11,
   "id": "b7600357-2816-4b9f-b1cc-9cfe828e1419",
   "metadata": {},
   "outputs": [
    {
     "data": {
      "text/plain": [
       "(np.float64(400.0), np.float64(45.0), np.float64(50.0))"
      ]
     },
     "execution_count": 11,
     "metadata": {},
     "output_type": "execute_result"
    }
   ],
   "source": [
    "m.Money.mean(), m.Math.mean(), m.English.mean() "
   ]
  },
  {
   "cell_type": "code",
   "execution_count": 13,
   "id": "a1caa035-311b-4c39-8d92-1e7c1124888b",
   "metadata": {},
   "outputs": [
    {
     "data": {
      "text/html": [
       "<div>\n",
       "<style scoped>\n",
       "    .dataframe tbody tr th:only-of-type {\n",
       "        vertical-align: middle;\n",
       "    }\n",
       "\n",
       "    .dataframe tbody tr th {\n",
       "        vertical-align: top;\n",
       "    }\n",
       "\n",
       "    .dataframe thead th {\n",
       "        text-align: right;\n",
       "    }\n",
       "</style>\n",
       "<table border=\"1\" class=\"dataframe\">\n",
       "  <thead>\n",
       "    <tr style=\"text-align: right;\">\n",
       "      <th></th>\n",
       "      <th>ID</th>\n",
       "      <th>Sex</th>\n",
       "      <th>Money</th>\n",
       "      <th>Name</th>\n",
       "      <th>Math</th>\n",
       "      <th>English</th>\n",
       "    </tr>\n",
       "  </thead>\n",
       "  <tbody>\n",
       "    <tr>\n",
       "      <th>0</th>\n",
       "      <td>3</td>\n",
       "      <td>M</td>\n",
       "      <td>500</td>\n",
       "      <td>Kondo</td>\n",
       "      <td>60</td>\n",
       "      <td>80</td>\n",
       "    </tr>\n",
       "    <tr>\n",
       "      <th>1</th>\n",
       "      <td>4</td>\n",
       "      <td>M</td>\n",
       "      <td>300</td>\n",
       "      <td>Kawada</td>\n",
       "      <td>30</td>\n",
       "      <td>20</td>\n",
       "    </tr>\n",
       "  </tbody>\n",
       "</table>\n",
       "</div>"
      ],
      "text/plain": [
       "  ID Sex  Money    Name  Math  English\n",
       "0  3   M    500   Kondo    60       80\n",
       "1  4   M    300  Kawada    30       20"
      ]
     },
     "execution_count": 13,
     "metadata": {},
     "output_type": "execute_result"
    }
   ],
   "source": [
    "attri_data_frame1.merge(attri_data_frame2)"
   ]
  },
  {
   "cell_type": "code",
   "execution_count": null,
   "id": "fff4cf6b-7a81-4551-a29e-a49f7fdc7ac3",
   "metadata": {},
   "outputs": [],
   "source": []
  },
  {
   "cell_type": "code",
   "execution_count": 16,
   "id": "0db93f5a-bb8b-4650-9daa-293fdfaba815",
   "metadata": {},
   "outputs": [
    {
     "data": {
      "image/png": "[encoded data removed]",
      "text/plain": [
       "<Figure size 2000x600 with 1 Axes>"
      ]
     },
     "metadata": {},
     "output_type": "display_data"
    }
   ],
   "source": [
    "random.seed(0)\n",
    "x = np.random.randn(30)\n",
    "y = np.sin(x) + np.random.randn(30)\n",
    "plt.figure(figsize=(20, 6))\n",
    "plt.plot(x, y, \"o\")\n",
    "plt.title(\"Title Name\")\n",
    "plt.xlabel(\"X\")\n",
    "plt.ylabel(\"Y\")\n",
    "plt.grid(True)"
   ]
  },
  {
   "cell_type": "code",
   "execution_count": 17,
   "id": "54102644-3d59-4721-913f-74ea2e2ff350",
   "metadata": {
    "collapsed": true,
    "jupyter": {
     "outputs_hidden": true
    }
   },
   "outputs": [
    {
     "data": {
      "text/plain": [
       "\u001b[0;31mSignature:\u001b[0m\n",
       "\u001b[0mplt\u001b[0m\u001b[0;34m.\u001b[0m\u001b[0mhist\u001b[0m\u001b[0;34m(\u001b[0m\u001b[0;34m\u001b[0m\n",
       "\u001b[0;34m\u001b[0m    \u001b[0mx\u001b[0m\u001b[0;34m:\u001b[0m \u001b[0;34m'ArrayLike | Sequence[ArrayLike]'\u001b[0m\u001b[0;34m,\u001b[0m\u001b[0;34m\u001b[0m\n",
       "\u001b[0;34m\u001b[0m    \u001b[0mbins\u001b[0m\u001b[0;34m:\u001b[0m \u001b[0;34m'int | Sequence[float] | str | None'\u001b[0m \u001b[0;34m=\u001b[0m \u001b[0;32mNone\u001b[0m\u001b[0;34m,\u001b[0m\u001b[0;34m\u001b[0m\n",
       "\u001b[0;34m\u001b[0m    \u001b[0mrange\u001b[0m\u001b[0;34m:\u001b[0m \u001b[0;34m'tuple[float, float] | None'\u001b[0m \u001b[0;34m=\u001b[0m \u001b[0;32mNone\u001b[0m\u001b[0;34m,\u001b[0m\u001b[0;34m\u001b[0m\n",
       "\u001b[0;34m\u001b[0m    \u001b[0mdensity\u001b[0m\u001b[0;34m:\u001b[0m \u001b[0;34m'bool'\u001b[0m \u001b[0;34m=\u001b[0m \u001b[0;32mFalse\u001b[0m\u001b[0;34m,\u001b[0m\u001b[0;34m\u001b[0m\n",
       "\u001b[0;34m\u001b[0m    \u001b[0mweights\u001b[0m\u001b[0;34m:\u001b[0m \u001b[0;34m'ArrayLike | None'\u001b[0m \u001b[0;34m=\u001b[0m \u001b[0;32mNone\u001b[0m\u001b[0;34m,\u001b[0m\u001b[0;34m\u001b[0m\n",
       "\u001b[0;34m\u001b[0m    \u001b[0mcumulative\u001b[0m\u001b[0;34m:\u001b[0m \u001b[0;34m'bool | float'\u001b[0m \u001b[0;34m=\u001b[0m \u001b[0;32mFalse\u001b[0m\u001b[0;34m,\u001b[0m\u001b[0;34m\u001b[0m\n",
       "\u001b[0;34m\u001b[0m    \u001b[0mbottom\u001b[0m\u001b[0;34m:\u001b[0m \u001b[0;34m'ArrayLike | float | None'\u001b[0m \u001b[0;34m=\u001b[0m \u001b[0;32mNone\u001b[0m\u001b[0;34m,\u001b[0m\u001b[0;34m\u001b[0m\n",
       "\u001b[0;34m\u001b[0m    \u001b[0mhisttype\u001b[0m\u001b[0;34m:\u001b[0m \u001b[0;34m\"Literal['bar', 'barstacked', 'step', 'stepfilled']\"\u001b[0m \u001b[0;34m=\u001b[0m \u001b[0;34m'bar'\u001b[0m\u001b[0;34m,\u001b[0m\u001b[0;34m\u001b[0m\n",
       "\u001b[0;34m\u001b[0m    \u001b[0malign\u001b[0m\u001b[0;34m:\u001b[0m \u001b[0;34m\"Literal['left', 'mid', 'right']\"\u001b[0m \u001b[0;34m=\u001b[0m \u001b[0;34m'mid'\u001b[0m\u001b[0;34m,\u001b[0m\u001b[0;34m\u001b[0m\n",
       "\u001b[0;34m\u001b[0m    \u001b[0morientation\u001b[0m\u001b[0;34m:\u001b[0m \u001b[0;34m\"Literal['vertical', 'horizontal']\"\u001b[0m \u001b[0;34m=\u001b[0m \u001b[0;34m'vertical'\u001b[0m\u001b[0;34m,\u001b[0m\u001b[0;34m\u001b[0m\n",
       "\u001b[0;34m\u001b[0m    \u001b[0mrwidth\u001b[0m\u001b[0;34m:\u001b[0m \u001b[0;34m'float | None'\u001b[0m \u001b[0;34m=\u001b[0m \u001b[0;32mNone\u001b[0m\u001b[0;34m,\u001b[0m\u001b[0;34m\u001b[0m\n",
       "\u001b[0;34m\u001b[0m    \u001b[0mlog\u001b[0m\u001b[0;34m:\u001b[0m \u001b[0;34m'bool'\u001b[0m \u001b[0;34m=\u001b[0m \u001b[0;32mFalse\u001b[0m\u001b[0;34m,\u001b[0m\u001b[0;34m\u001b[0m\n",
       "\u001b[0;34m\u001b[0m    \u001b[0mcolor\u001b[0m\u001b[0;34m:\u001b[0m \u001b[0;34m'ColorType | Sequence[ColorType] | None'\u001b[0m \u001b[0;34m=\u001b[0m \u001b[0;32mNone\u001b[0m\u001b[0;34m,\u001b[0m\u001b[0;34m\u001b[0m\n",
       "\u001b[0;34m\u001b[0m    \u001b[0mlabel\u001b[0m\u001b[0;34m:\u001b[0m \u001b[0;34m'str | Sequence[str] | None'\u001b[0m \u001b[0;34m=\u001b[0m \u001b[0;32mNone\u001b[0m\u001b[0;34m,\u001b[0m\u001b[0;34m\u001b[0m\n",
       "\u001b[0;34m\u001b[0m    \u001b[0mstacked\u001b[0m\u001b[0;34m:\u001b[0m \u001b[0;34m'bool'\u001b[0m \u001b[0;34m=\u001b[0m \u001b[0;32mFalse\u001b[0m\u001b[0;34m,\u001b[0m\u001b[0;34m\u001b[0m\n",
       "\u001b[0;34m\u001b[0m    \u001b[0;34m*\u001b[0m\u001b[0;34m,\u001b[0m\u001b[0;34m\u001b[0m\n",
       "\u001b[0;34m\u001b[0m    \u001b[0mdata\u001b[0m\u001b[0;34m=\u001b[0m\u001b[0;32mNone\u001b[0m\u001b[0;34m,\u001b[0m\u001b[0;34m\u001b[0m\n",
       "\u001b[0;34m\u001b[0m    \u001b[0;34m**\u001b[0m\u001b[0mkwargs\u001b[0m\u001b[0;34m,\u001b[0m\u001b[0;34m\u001b[0m\n",
       "\u001b[0;34m\u001b[0m\u001b[0;34m)\u001b[0m \u001b[0;34m->\u001b[0m \u001b[0;34m'tuple[np.ndarray | list[np.ndarray], np.ndarray, BarContainer | Polygon | list[BarContainer | Polygon]]'\u001b[0m\u001b[0;34m\u001b[0m\u001b[0;34m\u001b[0m\u001b[0m\n",
       "\u001b[0;31mDocstring:\u001b[0m\n",
       "Compute and plot a histogram.\n",
       "\n",
       "This method uses `numpy.histogram` to bin the data in *x* and count the\n",
       "number of values in each bin, then draws the distribution either as a\n",
       "`.BarContainer` or `.Polygon`. The *bins*, *range*, *density*, and\n",
       "*weights* parameters are forwarded to `numpy.histogram`.\n",
       "\n",
       "If the data has already been binned and counted, use `~.bar` or\n",
       "`~.stairs` to plot the distribution::\n",
       "\n",
       "    counts, bins = np.histogram(x)\n",
       "    plt.stairs(counts, bins)\n",
       "\n",
       "Alternatively, plot pre-computed bins and counts using ``hist()`` by\n",
       "treating each bin as a single point with a weight equal to its count::\n",
       "\n",
       "    plt.hist(bins[:-1], bins, weights=counts)\n",
       "\n",
       "The data input *x* can be a singular array, a list of datasets of\n",
       "potentially different lengths ([*x0*, *x1*, ...]), or a 2D ndarray in\n",
       "which each column is a dataset. Note that the ndarray form is\n",
       "transposed relative to the list form. If the input is an array, then\n",
       "the return value is a tuple (*n*, *bins*, *patches*); if the input is a\n",
       "sequence of arrays, then the return value is a tuple\n",
       "([*n0*, *n1*, ...], *bins*, [*patches0*, *patches1*, ...]).\n",
       "\n",
       "Masked arrays are not supported.\n",
       "\n",
       "Parameters\n",
       "----------\n",
       "x : (n,) array or sequence of (n,) arrays\n",
       "    Input values, this takes either a single array or a sequence of\n",
       "    arrays which are not required to be of the same length.\n",
       "\n",
       "bins : int or sequence or str, default: :rc:`hist.bins`\n",
       "    If *bins* is an integer, it defines the number of equal-width bins\n",
       "    in the range.\n",
       "\n",
       "    If *bins* is a sequence, it defines the bin edges, including the\n",
       "    left edge of the first bin and the right edge of the last bin;\n",
       "    in this case, bins may be unequally spaced.  All but the last\n",
       "    (righthand-most) bin is half-open.  In other words, if *bins* is::\n",
       "\n",
       "        [1, 2, 3, 4]\n",
       "\n",
       "    then the first bin is ``[1, 2)`` (including 1, but excluding 2) and\n",
       "    the second ``[2, 3)``.  The last bin, however, is ``[3, 4]``, which\n",
       "    *includes* 4.\n",
       "\n",
       "    If *bins* is a string, it is one of the binning strategies\n",
       "    supported by `numpy.histogram_bin_edges`: 'auto', 'fd', 'doane',\n",
       "    'scott', 'stone', 'rice', 'sturges', or 'sqrt'.\n",
       "\n",
       "range : tuple or None, default: None\n",
       "    The lower and upper range of the bins. Lower and upper outliers\n",
       "    are ignored. If not provided, *range* is ``(x.min(), x.max())``.\n",
       "    Range has no effect if *bins* is a sequence.\n",
       "\n",
       "    If *bins* is a sequence or *range* is specified, autoscaling\n",
       "    is based on the specified bin range instead of the\n",
       "    range of x.\n",
       "\n",
       "density : bool, default: False\n",
       "    If ``True``, draw and return a probability density: each bin\n",
       "    will display the bin's raw count divided by the total number of\n",
       "    counts *and the bin width*\n",
       "    (``density = counts / (sum(counts) * np.diff(bins))``),\n",
       "    so that the area under the histogram integrates to 1\n",
       "    (``np.sum(density * np.diff(bins)) == 1``).\n",
       "\n",
       "    If *stacked* is also ``True``, the sum of the histograms is\n",
       "    normalized to 1.\n",
       "\n",
       "weights : (n,) array-like or None, default: None\n",
       "    An array of weights, of the same shape as *x*.  Each value in\n",
       "    *x* only contributes its associated weight towards the bin count\n",
       "    (instead of 1).  If *density* is ``True``, the weights are\n",
       "    normalized, so that the integral of the density over the range\n",
       "    remains 1.\n",
       "\n",
       "cumulative : bool or -1, default: False\n",
       "    If ``True``, then a histogram is computed where each bin gives the\n",
       "    counts in that bin plus all bins for smaller values. The last bin\n",
       "    gives the total number of datapoints.\n",
       "\n",
       "    If *density* is also ``True`` then the histogram is normalized such\n",
       "    that the last bin equals 1.\n",
       "\n",
       "    If *cumulative* is a number less than 0 (e.g., -1), the direction\n",
       "    of accumulation is reversed.  In this case, if *density* is also\n",
       "    ``True``, then the histogram is normalized such that the first bin\n",
       "    equals 1.\n",
       "\n",
       "bottom : array-like, scalar, or None, default: None\n",
       "    Location of the bottom of each bin, i.e. bins are drawn from\n",
       "    ``bottom`` to ``bottom + hist(x, bins)`` If a scalar, the bottom\n",
       "    of each bin is shifted by the same amount. If an array, each bin\n",
       "    is shifted independently and the length of bottom must match the\n",
       "    number of bins. If None, defaults to 0.\n",
       "\n",
       "histtype : {'bar', 'barstacked', 'step', 'stepfilled'}, default: 'bar'\n",
       "    The type of histogram to draw.\n",
       "\n",
       "    - 'bar' is a traditional bar-type histogram.  If multiple data\n",
       "      are given the bars are arranged side by side.\n",
       "    - 'barstacked' is a bar-type histogram where multiple\n",
       "      data are stacked on top of each other.\n",
       "    - 'step' generates a lineplot that is by default unfilled.\n",
       "    - 'stepfilled' generates a lineplot that is by default filled.\n",
       "\n",
       "align : {'left', 'mid', 'right'}, default: 'mid'\n",
       "    The horizontal alignment of the histogram bars.\n",
       "\n",
       "    - 'left': bars are centered on the left bin edges.\n",
       "    - 'mid': bars are centered between the bin edges.\n",
       "    - 'right': bars are centered on the right bin edges.\n",
       "\n",
       "orientation : {'vertical', 'horizontal'}, default: 'vertical'\n",
       "    If 'horizontal', `~.Axes.barh` will be used for bar-type histograms\n",
       "    and the *bottom* kwarg will be the left edges.\n",
       "\n",
       "rwidth : float or None, default: None\n",
       "    The relative width of the bars as a fraction of the bin width.  If\n",
       "    ``None``, automatically compute the width.\n",
       "\n",
       "    Ignored if *histtype* is 'step' or 'stepfilled'.\n",
       "\n",
       "log : bool, default: False\n",
       "    If ``True``, the histogram axis will be set to a log scale.\n",
       "\n",
       "color : :mpltype:`color` or list of :mpltype:`color` or None, default: None\n",
       "    Color or sequence of colors, one per dataset.  Default (``None``)\n",
       "    uses the standard line color sequence.\n",
       "\n",
       "label : str or list of str, optional\n",
       "    String, or sequence of strings to match multiple datasets.  Bar\n",
       "    charts yield multiple patches per dataset, but only the first gets\n",
       "    the label, so that `~.Axes.legend` will work as expected.\n",
       "\n",
       "stacked : bool, default: False\n",
       "    If ``True``, multiple data are stacked on top of each other If\n",
       "    ``False`` multiple data are arranged side by side if histtype is\n",
       "    'bar' or on top of each other if histtype is 'step'\n",
       "\n",
       "Returns\n",
       "-------\n",
       "n : array or list of arrays\n",
       "    The values of the histogram bins. See *density* and *weights* for a\n",
       "    description of the possible semantics.  If input *x* is an array,\n",
       "    then this is an array of length *nbins*. If input is a sequence of\n",
       "    arrays ``[data1, data2, ...]``, then this is a list of arrays with\n",
       "    the values of the histograms for each of the arrays in the same\n",
       "    order.  The dtype of the array *n* (or of its element arrays) will\n",
       "    always be float even if no weighting or normalization is used.\n",
       "\n",
       "bins : array\n",
       "    The edges of the bins. Length nbins + 1 (nbins left edges and right\n",
       "    edge of last bin).  Always a single array even when multiple data\n",
       "    sets are passed in.\n",
       "\n",
       "patches : `.BarContainer` or list of a single `.Polygon` or list of such objects\n",
       "    Container of individual artists used to create the histogram\n",
       "    or list of such containers if there are multiple input datasets.\n",
       "\n",
       "Other Parameters\n",
       "----------------\n",
       "data : indexable object, optional\n",
       "    If given, the following parameters also accept a string ``s``, which is\n",
       "    interpreted as ``data[s]`` (unless this raises an exception):\n",
       "\n",
       "    *x*, *weights*\n",
       "\n",
       "**kwargs\n",
       "    `~matplotlib.patches.Patch` properties\n",
       "\n",
       "See Also\n",
       "--------\n",
       "hist2d : 2D histogram with rectangular bins\n",
       "hexbin : 2D histogram with hexagonal bins\n",
       "stairs : Plot a pre-computed histogram\n",
       "bar : Plot a pre-computed histogram\n",
       "\n",
       "Notes\n",
       "-----\n",
       "\n",
       ".. note::\n",
       "\n",
       "    This is the :ref:`pyplot wrapper <pyplot_interface>` for `.axes.Axes.hist`.\n",
       "\n",
       "For large numbers of bins (>1000), plotting can be significantly\n",
       "accelerated by using `~.Axes.stairs` to plot a pre-computed histogram\n",
       "(``plt.stairs(*np.histogram(data))``), or by setting *histtype* to\n",
       "'step' or 'stepfilled' rather than 'bar' or 'barstacked'.\n",
       "\u001b[0;31mFile:\u001b[0m      ~/code-git-backup/Matsuo_book/.venv/lib/python3.11/site-packages/matplotlib/pyplot.py\n",
       "\u001b[0;31mType:\u001b[0m      function"
      ]
     },
     "metadata": {},
     "output_type": "display_data"
    }
   ],
   "source": [
    "?plt.hist"
   ]
  },
  {
   "cell_type": "code",
   "execution_count": 19,
   "id": "1a281e4e-0249-40bd-8caf-ab41dcc42df2",
   "metadata": {},
   "outputs": [
    {
     "data": {
      "text/plain": [
       "[<matplotlib.lines.Line2D at 0x12a24bd10>]"
      ]
     },
     "execution_count": 19,
     "metadata": {},
     "output_type": "execute_result"
    },
    {
     "data": {
      "image/png": "[encoded data removed]",
      "text/plain": [
       "<Figure size 640x480 with 1 Axes>"
      ]
     },
     "metadata": {},
     "output_type": "display_data"
    }
   ],
   "source": [
    "x = np.linspace(-10, 10, 100)\n",
    "y = 5*x + 3\n",
    "\n",
    "plt.plot(x, y)"
   ]
  },
  {
   "cell_type": "code",
   "execution_count": 22,
   "id": "8d927e75-ed19-4705-bc58-3772d37f709a",
   "metadata": {},
   "outputs": [
    {
     "data": {
      "image/png": "[encoded data removed]",
      "text/plain": [
       "<Figure size 640x480 with 1 Axes>"
      ]
     },
     "metadata": {},
     "output_type": "display_data"
    }
   ],
   "source": [
    "y_sin = np.sin(x)\n",
    "y_cos = np.cos(x)\n",
    "\n",
    "plt.plot(x, y_sin, label=\"sin\")\n",
    "plt.plot(x, y_cos, label=\"cos\")\n",
    "plt.legend()\n",
    "\n",
    "plt.grid(True)\n",
    "\n",
    "plt.show()"
   ]
  },
  {
   "cell_type": "code",
   "execution_count": 29,
   "id": "b3150ad6-a9c5-45a3-94b2-288639339c73",
   "metadata": {},
   "outputs": [],
   "source": [
    "def plot_hist(y1, y2):\n",
    "    plt.figure(figsize=(20, 20))\n",
    "    plt.subplot(2, 1, 1)\n",
    "    plt.hist(y1, bins=50)\n",
    "\n",
    "    plt.subplot(2, 1, 2)\n",
    "    plt.hist(y2, bins=50)\n",
    "    \n",
    "    plt.grid(True)\n",
    "    plt.show()"
   ]
  },
  {
   "cell_type": "code",
   "execution_count": 24,
   "id": "385c2072-14e2-406f-9f0e-cf862ea2b6c0",
   "metadata": {},
   "outputs": [],
   "source": [
    "x_100 = np.random.uniform(0.0, 1.0, 100)\n",
    "x_1000 = np.random.uniform(0.0, 1.0, 1000)\n",
    "x_10000 = np.random.uniform(0.0, 1.0, 10000)"
   ]
  },
  {
   "cell_type": "code",
   "execution_count": 25,
   "id": "42f546ea-44fc-4d13-9c69-d3b61230eb8c",
   "metadata": {},
   "outputs": [],
   "source": [
    "y_100 = np.random.uniform(0.0, 1.0, 100)\n",
    "y_1000 = np.random.uniform(0.0, 1.0, 1000)\n",
    "y_10000 = np.random.uniform(0.0, 1.0, 10000)"
   ]
  },
  {
   "cell_type": "code",
   "execution_count": 30,
   "id": "822805d2-ddd2-45e9-adf0-cd551f1ddd3b",
   "metadata": {},
   "outputs": [
    {
     "data": {
      "image/png": "[encoded data removed]",
      "text/plain": [
       "<Figure size 2000x2000 with 2 Axes>"
      ]
     },
     "metadata": {},
     "output_type": "display_data"
    }
   ],
   "source": [
    "plot_hist(x_100, y_100)"
   ]
  },
  {
   "cell_type": "code",
   "execution_count": 31,
   "id": "362b9704-4955-4b3a-a54a-ae89ce28f8b7",
   "metadata": {},
   "outputs": [
    {
     "data": {
      "image/png": "[encoded data removed]",
      "text/plain": [
       "<Figure size 2000x2000 with 2 Axes>"
      ]
     },
     "metadata": {},
     "output_type": "display_data"
    }
   ],
   "source": [
    "plot_hist(x_1000, y_1000)"
   ]
  },
  {
   "cell_type": "code",
   "execution_count": 32,
   "id": "677d4c5a-fcd6-4177-a713-25017f27a8ae",
   "metadata": {},
   "outputs": [
    {
     "data": {
      "image/png": "[encoded data removed]",
      "text/plain": [
       "<Figure size 2000x2000 with 2 Axes>"
      ]
     },
     "metadata": {},
     "output_type": "display_data"
    }
   ],
   "source": [
    "plot_hist(x_10000, y_10000)"
   ]
  },
  {
   "cell_type": "code",
   "execution_count": null,
   "id": "2172d488-0297-4ac9-a3a0-f54a7689845f",
   "metadata": {},
   "outputs": [],
   "source": []
  },
  {
   "cell_type": "markdown",
   "id": "91ff2028-9122-4c89-ab66-4c3b07824759",
   "metadata": {},
   "source": [
    "## 2章総合問題"
   ]
  },
  {
   "cell_type": "code",
   "execution_count": null,
   "id": "4be00890-1d86-4df3-9194-d63b47e421ba",
   "metadata": {},
   "outputs": [],
   "source": []
  },
  {
   "cell_type": "code",
   "execution_count": null,
   "id": "4a4910f9-7c70-4777-a77a-320c979d9bc3",
   "metadata": {},
   "outputs": [],
   "source": []
  },
  {
   "cell_type": "code",
   "execution_count": null,
   "id": "f6f9bc09-a617-4f9a-9818-4513fae38238",
   "metadata": {},
   "outputs": [],
   "source": []
  },
  {
   "cell_type": "code",
   "execution_count": null,
   "id": "cdbf2b16-cb08-401e-9299-84978bcfaedd",
   "metadata": {},
   "outputs": [],
   "source": []
  },
  {
   "cell_type": "code",
   "execution_count": null,
   "id": "b6fce912-794a-4476-ac70-f5bdb0a78d92",
   "metadata": {},
   "outputs": [],
   "source": []
  },
  {
   "cell_type": "code",
   "execution_count": null,
   "id": "73592f24-2e54-4d1c-8f50-1b4ef1eae6cc",
   "metadata": {},
   "outputs": [],
   "source": []
  },
  {
   "cell_type": "code",
   "execution_count": 3,
   "id": "e8f5b506-ff71-41c9-8547-4f0535995ce1",
   "metadata": {},
   "outputs": [],
   "source": [
    "import math"
   ]
  },
  {
   "cell_type": "code",
   "execution_count": 18,
   "id": "8f2dd772-a10a-4f6d-887e-db6da7402de2",
   "metadata": {},
   "outputs": [],
   "source": [
    "length = 100000\n",
    "x = np.random.uniform(0.0, 1.0, length)\n",
    "y = np.random.uniform(0.0, 1.0, length)"
   ]
  },
  {
   "cell_type": "code",
   "execution_count": 12,
   "id": "c3c234bf-3fed-4b5f-b2d5-764e09d719be",
   "metadata": {},
   "outputs": [
    {
     "data": {
      "text/plain": [
       "10000"
      ]
     },
     "execution_count": 12,
     "metadata": {},
     "output_type": "execute_result"
    }
   ],
   "source": [
    "len(x)"
   ]
  },
  {
   "cell_type": "code",
   "execution_count": 19,
   "id": "87d249fd-cd9d-42d3-852a-743b6669b1f0",
   "metadata": {},
   "outputs": [
    {
     "name": "stdout",
     "output_type": "stream",
     "text": [
      "CPU times: user 4 μs, sys: 1e+03 ns, total: 5 μs\n",
      "Wall time: 11.9 μs\n"
     ]
    }
   ],
   "source": [
    "%time\n",
    "in_circle = 0\n",
    "out_circle = 0\n",
    "for i in range(length):\n",
    "    if math.hypot(x[i], y[i]) <= 1:\n",
    "        in_circle += 1\n",
    "    else:\n",
    "        out_circle += 1"
   ]
  },
  {
   "cell_type": "code",
   "execution_count": 20,
   "id": "1b0c3725-c5cd-4d81-95c3-1aa0da618202",
   "metadata": {},
   "outputs": [
    {
     "data": {
      "text/plain": [
       "78794"
      ]
     },
     "execution_count": 20,
     "metadata": {},
     "output_type": "execute_result"
    }
   ],
   "source": [
    "in_circle"
   ]
  },
  {
   "cell_type": "code",
   "execution_count": 21,
   "id": "e9a98a8d-d357-4c1f-aee0-025cddf9a3d0",
   "metadata": {},
   "outputs": [
    {
     "data": {
      "text/plain": [
       "21206"
      ]
     },
     "execution_count": 21,
     "metadata": {},
     "output_type": "execute_result"
    }
   ],
   "source": [
    "out_circle"
   ]
  },
  {
   "cell_type": "code",
   "execution_count": 22,
   "id": "3a08e782-5c07-41a1-b8c3-05af5fec3b2f",
   "metadata": {},
   "outputs": [
    {
     "data": {
      "text/plain": [
       "3.15176"
      ]
     },
     "execution_count": 22,
     "metadata": {},
     "output_type": "execute_result"
    }
   ],
   "source": [
    "(4*in_circle) / (out_circle + in_circle)"
   ]
  },
  {
   "cell_type": "code",
   "execution_count": null,
   "id": "f66a0347-127a-4d11-aa1f-f20c1f86e647",
   "metadata": {},
   "outputs": [],
   "source": []
  },
  {
   "cell_type": "code",
   "execution_count": null,
   "id": "58d738f9-0ea7-46f7-a452-75d34ceb4295",
   "metadata": {},
   "outputs": [],
   "source": []
  }
 ],
 "metadata": {
  "kernelspec": {
   "display_name": "Matsuo_book",
   "language": "python",
   "name": "matsuo_book_venv"
  },
  "language_info": {
   "codemirror_mode": {
    "name": "ipython",
    "version": 3
   },
   "file_extension": ".py",
   "mimetype": "text/x-python",
   "name": "python",
   "nbconvert_exporter": "python",
   "pygments_lexer": "ipython3",
   "version": "3.11.9"
  }
 },
 "nbformat": 4,
 "nbformat_minor": 5
}
